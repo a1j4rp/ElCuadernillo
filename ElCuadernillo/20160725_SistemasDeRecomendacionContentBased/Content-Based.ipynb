{
 "cells": [
  {
   "cell_type": "code",
   "execution_count": 2,
   "metadata": {
    "collapsed": false,
    "scrolled": false,
    "slideshow": {
     "slide_type": "skip"
    }
   },
   "outputs": [
    {
     "data": {
      "text/html": [
       "<style>div.prompt {display:none}</style>"
      ],
      "text/plain": [
       "<IPython.core.display.HTML object>"
      ]
     },
     "execution_count": 2,
     "metadata": {},
     "output_type": "execute_result"
    }
   ],
   "source": [
    "from IPython.core.display import HTML\n",
    "HTML(\"<style>.container { width:100% !important; }</style>\")\n",
    "HTML(\"<style>div.prompt {display:none}</style>\")"
   ]
  },
  {
   "cell_type": "markdown",
   "metadata": {
    "slideshow": {
     "slide_type": "slide"
    }
   },
   "source": [
    "# Recomendacion de articulos basados en su contenido"
   ]
  },
  {
   "cell_type": "code",
   "execution_count": 3,
   "metadata": {
    "collapsed": true,
    "slideshow": {
     "slide_type": "fragment"
    }
   },
   "outputs": [],
   "source": [
    "import pandas as pd\n",
    "import sys\n",
    "sys.path.append('./Scripts') \n",
    "import ContendBased as CB\n",
    "# Autorecarga los modulos\n",
    "%load_ext autoreload\n",
    "%autoreload 2"
   ]
  },
  {
   "cell_type": "markdown",
   "metadata": {},
   "source": [
    "### Importamos los datos"
   ]
  },
  {
   "cell_type": "code",
   "execution_count": 4,
   "metadata": {
    "collapsed": false,
    "slideshow": {
     "slide_type": "fragment"
    }
   },
   "outputs": [
    {
     "data": {
      "text/html": [
       "<div style=\"max-height:1000px;max-width:1500px;overflow:auto;\">\n",
       "<table border=\"1\" class=\"dataframe\">\n",
       "  <thead>\n",
       "    <tr style=\"text-align: right;\">\n",
       "      <th></th>\n",
       "      <th>URI</th>\n",
       "      <th>name</th>\n",
       "      <th>text</th>\n",
       "    </tr>\n",
       "  </thead>\n",
       "  <tbody>\n",
       "    <tr>\n",
       "      <th>0</th>\n",
       "      <td>      &lt;http://dbpedia.org/resource/Gigi_Rigamonti&gt;</td>\n",
       "      <td>            Gigi Rigamonti</td>\n",
       "      <td> gigi rigamonti born 8 april 1949 is an italian...</td>\n",
       "    </tr>\n",
       "    <tr>\n",
       "      <th>1</th>\n",
       "      <td> &lt;http://dbpedia.org/resource/Steve_Anderson_(m...</td>\n",
       "      <td> Steve Anderson (musician)</td>\n",
       "      <td> steve anderson was briefly a member of the ban...</td>\n",
       "    </tr>\n",
       "    <tr>\n",
       "      <th>2</th>\n",
       "      <td> &lt;http://dbpedia.org/resource/Tenzin_Delek_Rinp...</td>\n",
       "      <td>     Tenzin Delek Rinpoche</td>\n",
       "      <td> lithang tulku tenzin delek rinpoche or tenzing...</td>\n",
       "    </tr>\n",
       "  </tbody>\n",
       "</table>\n",
       "</div>"
      ],
      "text/plain": [
       "                                                 URI  \\\n",
       "0       <http://dbpedia.org/resource/Gigi_Rigamonti>   \n",
       "1  <http://dbpedia.org/resource/Steve_Anderson_(m...   \n",
       "2  <http://dbpedia.org/resource/Tenzin_Delek_Rinp...   \n",
       "\n",
       "                        name  \\\n",
       "0             Gigi Rigamonti   \n",
       "1  Steve Anderson (musician)   \n",
       "2      Tenzin Delek Rinpoche   \n",
       "\n",
       "                                                text  \n",
       "0  gigi rigamonti born 8 april 1949 is an italian...  \n",
       "1  steve anderson was briefly a member of the ban...  \n",
       "2  lithang tulku tenzin delek rinpoche or tenzing...  "
      ]
     },
     "execution_count": 4,
     "metadata": {},
     "output_type": "execute_result"
    }
   ],
   "source": [
    "datos = pd.read_csv(\"BD/people_wiki.csv\")\n",
    "datos.head(3)"
   ]
  },
  {
   "cell_type": "markdown",
   "metadata": {
    "slideshow": {
     "slide_type": "subslide"
    }
   },
   "source": [
    "### Entrenamos el modelo"
   ]
  },
  {
   "cell_type": "code",
   "execution_count": 22,
   "metadata": {
    "collapsed": false,
    "slideshow": {
     "slide_type": "subslide"
    }
   },
   "outputs": [],
   "source": [
    "content_based = CB.ContentBased()\n",
    "content_based.fit(datos,columna_descripcion='text')"
   ]
  },
  {
   "cell_type": "markdown",
   "metadata": {},
   "source": [
    "#### Ejemplo de busqueda\n",
    "Vamos a buscar los actores que han podido ganar algun oscar: https://en.wikipedia.org/wiki/Academy_Award_for_Best_Actor"
   ]
  },
  {
   "cell_type": "markdown",
   "metadata": {
    "slideshow": {
     "slide_type": "fragment"
    }
   },
   "source": [
    "Se puede comprobar que de los 5, 4 de ellos ha ganado por lo menos un oscar !!!!"
   ]
  },
  {
   "cell_type": "code",
   "execution_count": 23,
   "metadata": {
    "collapsed": false,
    "slideshow": {
     "slide_type": "fragment"
    }
   },
   "outputs": [
    {
     "data": {
      "text/html": [
       "<div style=\"max-height:1000px;max-width:1500px;overflow:auto;\">\n",
       "<table border=\"1\" class=\"dataframe\">\n",
       "  <thead>\n",
       "    <tr style=\"text-align: right;\">\n",
       "      <th></th>\n",
       "      <th>URI</th>\n",
       "      <th>name</th>\n",
       "      <th>text</th>\n",
       "    </tr>\n",
       "  </thead>\n",
       "  <tbody>\n",
       "    <tr>\n",
       "      <th>185  </th>\n",
       "      <td>        &lt;http://dbpedia.org/resource/Al_Pacino&gt;</td>\n",
       "      <td>        Al Pacino</td>\n",
       "      <td> alfredo james al pacino ptino born april 25 19...</td>\n",
       "    </tr>\n",
       "    <tr>\n",
       "      <th>10267</th>\n",
       "      <td>      &lt;http://dbpedia.org/resource/Ethan_Hawke&gt;</td>\n",
       "      <td>      Ethan Hawke</td>\n",
       "      <td> ethan green hawke born november 6 1970 is an a...</td>\n",
       "    </tr>\n",
       "    <tr>\n",
       "      <th>12795</th>\n",
       "      <td>    &lt;http://dbpedia.org/resource/Ralph_Fiennes&gt;</td>\n",
       "      <td>    Ralph Fiennes</td>\n",
       "      <td> ralph nathaniel twisletonwykehamfiennes ref fa...</td>\n",
       "    </tr>\n",
       "    <tr>\n",
       "      <th>3474 </th>\n",
       "      <td> &lt;http://dbpedia.org/resource/Daniel_Day-Lewis&gt;</td>\n",
       "      <td> Daniel Day-Lewis</td>\n",
       "      <td> sir daniel michael blake daylewis kt born 29 a...</td>\n",
       "    </tr>\n",
       "    <tr>\n",
       "      <th>4677 </th>\n",
       "      <td>   &lt;http://dbpedia.org/resource/Michael_Keaton&gt;</td>\n",
       "      <td>   Michael Keaton</td>\n",
       "      <td> michael john douglas born september 5 1951 bet...</td>\n",
       "    </tr>\n",
       "  </tbody>\n",
       "</table>\n",
       "</div>"
      ],
      "text/plain": [
       "                                                  URI              name  \\\n",
       "185           <http://dbpedia.org/resource/Al_Pacino>         Al Pacino   \n",
       "10267       <http://dbpedia.org/resource/Ethan_Hawke>       Ethan Hawke   \n",
       "12795     <http://dbpedia.org/resource/Ralph_Fiennes>     Ralph Fiennes   \n",
       "3474   <http://dbpedia.org/resource/Daniel_Day-Lewis>  Daniel Day-Lewis   \n",
       "4677     <http://dbpedia.org/resource/Michael_Keaton>    Michael Keaton   \n",
       "\n",
       "                                                    text  \n",
       "185    alfredo james al pacino ptino born april 25 19...  \n",
       "10267  ethan green hawke born november 6 1970 is an a...  \n",
       "12795  ralph nathaniel twisletonwykehamfiennes ref fa...  \n",
       "3474   sir daniel michael blake daylewis kt born 29 a...  \n",
       "4677   michael john douglas born september 5 1951 bet...  "
      ]
     },
     "execution_count": 23,
     "metadata": {},
     "output_type": "execute_result"
    }
   ],
   "source": [
    "content_based.predict(['Award Actor Oscar'])"
   ]
  },
  {
   "cell_type": "markdown",
   "metadata": {},
   "source": [
    "#### Ejemplo de similitud"
   ]
  },
  {
   "cell_type": "code",
   "execution_count": 24,
   "metadata": {
    "collapsed": false,
    "slideshow": {
     "slide_type": "fragment"
    }
   },
   "outputs": [
    {
     "data": {
      "text/html": [
       "<div style=\"max-height:1000px;max-width:1500px;overflow:auto;\">\n",
       "<table border=\"1\" class=\"dataframe\">\n",
       "  <thead>\n",
       "    <tr style=\"text-align: right;\">\n",
       "      <th></th>\n",
       "      <th>URI</th>\n",
       "      <th>name</th>\n",
       "      <th>text</th>\n",
       "    </tr>\n",
       "  </thead>\n",
       "  <tbody>\n",
       "    <tr>\n",
       "      <th>185  </th>\n",
       "      <td>        &lt;http://dbpedia.org/resource/Al_Pacino&gt;</td>\n",
       "      <td>        Al Pacino</td>\n",
       "      <td> alfredo james al pacino ptino born april 25 19...</td>\n",
       "    </tr>\n",
       "    <tr>\n",
       "      <th>12795</th>\n",
       "      <td>    &lt;http://dbpedia.org/resource/Ralph_Fiennes&gt;</td>\n",
       "      <td>    Ralph Fiennes</td>\n",
       "      <td> ralph nathaniel twisletonwykehamfiennes ref fa...</td>\n",
       "    </tr>\n",
       "    <tr>\n",
       "      <th>10267</th>\n",
       "      <td>      &lt;http://dbpedia.org/resource/Ethan_Hawke&gt;</td>\n",
       "      <td>      Ethan Hawke</td>\n",
       "      <td> ethan green hawke born november 6 1970 is an a...</td>\n",
       "    </tr>\n",
       "    <tr>\n",
       "      <th>3474 </th>\n",
       "      <td> &lt;http://dbpedia.org/resource/Daniel_Day-Lewis&gt;</td>\n",
       "      <td> Daniel Day-Lewis</td>\n",
       "      <td> sir daniel michael blake daylewis kt born 29 a...</td>\n",
       "    </tr>\n",
       "    <tr>\n",
       "      <th>460  </th>\n",
       "      <td>     &lt;http://dbpedia.org/resource/Jeff_Daniels&gt;</td>\n",
       "      <td>     Jeff Daniels</td>\n",
       "      <td> jeffrey warren jeff daniels born february 19 1...</td>\n",
       "    </tr>\n",
       "  </tbody>\n",
       "</table>\n",
       "</div>"
      ],
      "text/plain": [
       "                                                  URI              name  \\\n",
       "185           <http://dbpedia.org/resource/Al_Pacino>         Al Pacino   \n",
       "12795     <http://dbpedia.org/resource/Ralph_Fiennes>     Ralph Fiennes   \n",
       "10267       <http://dbpedia.org/resource/Ethan_Hawke>       Ethan Hawke   \n",
       "3474   <http://dbpedia.org/resource/Daniel_Day-Lewis>  Daniel Day-Lewis   \n",
       "460        <http://dbpedia.org/resource/Jeff_Daniels>      Jeff Daniels   \n",
       "\n",
       "                                                    text  \n",
       "185    alfredo james al pacino ptino born april 25 19...  \n",
       "12795  ralph nathaniel twisletonwykehamfiennes ref fa...  \n",
       "10267  ethan green hawke born november 6 1970 is an a...  \n",
       "3474   sir daniel michael blake daylewis kt born 29 a...  \n",
       "460    jeffrey warren jeff daniels born february 19 1...  "
      ]
     },
     "execution_count": 24,
     "metadata": {},
     "output_type": "execute_result"
    }
   ],
   "source": [
    "content_based.predict(datos.query('name == \"Al Pacino\"').text)"
   ]
  }
 ],
 "metadata": {
  "kernelspec": {
   "display_name": "Python 3",
   "language": "python",
   "name": "python3"
  },
  "language_info": {
   "codemirror_mode": {
    "name": "ipython",
    "version": 3
   },
   "file_extension": ".py",
   "mimetype": "text/x-python",
   "name": "python",
   "nbconvert_exporter": "python",
   "pygments_lexer": "ipython3",
   "version": "3.4.2"
  }
 },
 "nbformat": 4,
 "nbformat_minor": 0
}

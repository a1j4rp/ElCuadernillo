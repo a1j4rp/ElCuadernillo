{
 "cells": [
  {
   "cell_type": "code",
   "execution_count": 1,
   "metadata": {
    "collapsed": false,
    "slideshow": {
     "slide_type": "skip"
    }
   },
   "outputs": [
    {
     "data": {
      "text/html": [
       "<style>\n",
       "div.prompt {display:none}\n",
       "</style>"
      ],
      "text/plain": [
       "<IPython.core.display.HTML object>"
      ]
     },
     "metadata": {},
     "output_type": "display_data"
    }
   ],
   "source": [
    "%%HTML\n",
    "<style>\n",
    "div.prompt {display:none}\n",
    "</style>"
   ]
  },
  {
   "cell_type": "markdown",
   "metadata": {},
   "source": [
    "# Regresión multiple utilizando grandiente descendente de TensorFlow"
   ]
  },
  {
   "cell_type": "code",
   "execution_count": 2,
   "metadata": {
    "collapsed": true
   },
   "outputs": [],
   "source": [
    "import numpy as np\n",
    "import tensorflow as tf\n",
    "import matplotlib.pyplot as plt\n",
    "import seaborn as sns\n",
    "sns.set(color_codes=True)\n",
    "%matplotlib inline\n",
    "import sys"
   ]
  },
  {
   "cell_type": "code",
   "execution_count": 3,
   "metadata": {
    "collapsed": true
   },
   "outputs": [],
   "source": [
    "sys.path.append('/home/pedro/git/ElCuadernillo/ElCuadernillo/20160220_TensorFlowRegresionMultiple')"
   ]
  },
  {
   "cell_type": "code",
   "execution_count": 4,
   "metadata": {
    "collapsed": true
   },
   "outputs": [],
   "source": [
    "import gradient_descent_tensorflow as gdt"
   ]
  },
  {
   "cell_type": "markdown",
   "metadata": {
    "collapsed": false
   },
   "source": [
    "## Input\n",
    "Generamos la muestra de grado 5"
   ]
  },
  {
   "cell_type": "code",
   "execution_count": 13,
   "metadata": {
    "collapsed": false
   },
   "outputs": [
    {
     "name": "stdout",
     "output_type": "stream",
     "text": [
      "Coeficientes:  [-1.08518112 -4.86650141  3.55909257  4.32554846]\n"
     ]
    },
    {
     "data": {
      "text/plain": [
       "[<matplotlib.lines.Line2D at 0x7fba9c12c6a0>]"
      ]
     },
     "execution_count": 13,
     "metadata": {},
     "output_type": "execute_result"
    },
    {
     "data": {
      "image/png": "[encoded data removed]",
      "text/plain": [
       "<matplotlib.figure.Figure at 0x7fba9c290978>"
      ]
     },
     "metadata": {},
     "output_type": "display_data"
    }
   ],
   "source": [
    "grado=4\n",
    "tamano=100000\n",
    "x,y,coeficentes=gdt.generar_muestra(grado,tamano)\n",
    "print (\"Coeficientes: \",coeficentes)\n",
    "plt.plot(x,y,'.')"
   ]
  },
  {
   "cell_type": "markdown",
   "metadata": {
    "collapsed": false
   },
   "source": [
    "## Problema\n",
    "**Calcular los coeficientes que mejor se ajusten a la muestra sabiendo que es de grado 5**"
   ]
  },
  {
   "cell_type": "markdown",
   "metadata": {},
   "source": [
    "Generamos la matriz de coeficientes de grado 5"
   ]
  },
  {
   "cell_type": "code",
   "execution_count": 14,
   "metadata": {
    "collapsed": true
   },
   "outputs": [],
   "source": [
    "train_x=gdt.generar_matriz_coeficientes(x,grado) # MatrizA\n",
    "train_y=np.reshape(y,(y.shape[0],-1)) # VectorColumna"
   ]
  },
  {
   "cell_type": "markdown",
   "metadata": {},
   "source": [
    "### Solucion 1: Por medio *gradient descent*\n",
    "Se va a calcular minimizando *ecm* por medio de *GradientDescent*"
   ]
  },
  {
   "cell_type": "code",
   "execution_count": 15,
   "metadata": {
    "collapsed": false
   },
   "outputs": [
    {
     "name": "stdout",
     "output_type": "stream",
     "text": [
      "Iteracion 0:\n",
      "\tPesos: [ 0.07320742  0.1470702   0.19885227  0.47953635]\n",
      "\tecm: 99.34159851074219\n",
      "Iteracion 200:\n",
      "\tPesos: [-0.58024573 -2.21714735  3.32107711  3.37865615]\n",
      "\tecm: 1.629904866218567\n",
      "Iteracion 400:\n",
      "\tPesos: [-0.97155124 -3.62738228  3.50553012  3.88268089]\n",
      "\tecm: 0.33678770065307617\n",
      "Iteracion 600:\n",
      "\tPesos: [-1.05961025 -4.28695822  3.54703903  4.11841726]\n",
      "\tecm: 0.07267174124717712\n",
      "Iteracion 800:\n",
      "\tPesos: [-1.07942677 -4.59544659  3.55638003  4.22867203]\n",
      "\tecm: 0.015846019610762596\n",
      "Iteracion 826:\n",
      "\tPesos: [-1.080441   -4.62094307  3.55685806  4.23778486]\n",
      "\tecm: 0.013002973981201649\n",
      "-------------------------------------------------------------------------\n",
      "Iteracion 826:\n",
      "\tPesos: [-1.080441   -4.62094307  3.55685806  4.23778486]\n",
      "\tecm: 0.013002973981201649\n",
      "-------------------------------------------------------------------------\n",
      "Tiempo de calculo: 12.130208492279053\n"
     ]
    }
   ],
   "source": [
    "pesos_gd,ecm,t_c_gd=gdt.regression_gradient_descent(train_x,train_y,diff_error_parada=1e-4)"
   ]
  },
  {
   "cell_type": "markdown",
   "metadata": {},
   "source": [
    "Mostramos la curva de error por iteracion"
   ]
  },
  {
   "cell_type": "markdown",
   "metadata": {},
   "source": [
    "### Solución 2: Por medio *stochastic gradient descent*\n",
    "Mucho mas rápido para grandes volumenes de datos"
   ]
  },
  {
   "cell_type": "code",
   "execution_count": 27,
   "metadata": {
    "collapsed": false
   },
   "outputs": [
    {
     "name": "stdout",
     "output_type": "stream",
     "text": [
      "Iteracion 200:\n",
      "\tPesos: [-0.58090049 -2.20817447  3.32025838  3.38156724]\n",
      "\tecm: 1.6440212726593018\n",
      "Iteracion 400:\n",
      "\tPesos: [-0.98682964 -3.62498927  3.51430655  3.87524843]\n",
      "\tecm: 0.33942845463752747\n",
      "-------------------------------------------------------------------------\n",
      "Iteracion 553:\n",
      "\tPesos: [-1.05111432 -4.1734333   3.54234004  4.07348108]\n",
      "\tecm: 0.10962517559528351\n",
      "-------------------------------------------------------------------------\n",
      "Tiempo de calculo: 0.5247683525085449\n"
     ]
    }
   ],
   "source": [
    "pesos_sgd,ecm,t_c_sgd=gdt.regression_stochastic_gradient_descent(train_x,train_y,1000,diff_error_parada=1e-4)"
   ]
  },
  {
   "cell_type": "markdown",
   "metadata": {},
   "source": [
    "## Resultados:"
   ]
  },
  {
   "cell_type": "code",
   "execution_count": 29,
   "metadata": {
    "collapsed": false
   },
   "outputs": [
    {
     "data": {
      "image/png": "[encoded data removed]",
      "text/plain": [
       "<matplotlib.figure.Figure at 0x7fba9c164e10>"
      ]
     },
     "metadata": {},
     "output_type": "display_data"
    }
   ],
   "source": [
    "plt=gdt.grafica_resultados(coeficentes,pesos_gd,pesos_sgd,t_c_gd,t_c_sgd)\n",
    "plt.show()"
   ]
  }
 ],
 "metadata": {
  "kernelspec": {
   "display_name": "Python 3",
   "language": "python",
   "name": "python3"
  },
  "language_info": {
   "codemirror_mode": {
    "name": "ipython",
    "version": 3
   },
   "file_extension": ".py",
   "mimetype": "text/x-python",
   "name": "python",
   "nbconvert_exporter": "python",
   "pygments_lexer": "ipython3",
   "version": "3.4.2"
  }
 },
 "nbformat": 4,
 "nbformat_minor": 0
}

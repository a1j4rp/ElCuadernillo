{
 "cells": [
  {
   "cell_type": "code",
   "execution_count": 23,
   "metadata": {
    "collapsed": false,
    "slideshow": {
     "slide_type": "skip"
    }
   },
   "outputs": [
    {
     "data": {
      "text/html": [
       "<style>\n",
       "div.prompt {display:none}\n",
       "</style>"
      ],
      "text/plain": [
       "<IPython.core.display.HTML object>"
      ]
     },
     "metadata": {},
     "output_type": "display_data"
    }
   ],
   "source": [
    "%%HTML\n",
    "<style>\n",
    "div.prompt {display:none}\n",
    "</style>"
   ]
  },
  {
   "cell_type": "markdown",
   "metadata": {},
   "source": [
    "# Regresión multiple utilizando grandiente descendente de TensorFlow"
   ]
  },
  {
   "cell_type": "code",
   "execution_count": 1,
   "metadata": {
    "collapsed": true
   },
   "outputs": [],
   "source": [
    "import numpy as np\n",
    "import tensorflow as tf\n",
    "import matplotlib.pyplot as plt\n",
    "import seaborn as sns\n",
    "sns.set(color_codes=True)\n",
    "%matplotlib inline\n",
    "import sys"
   ]
  },
  {
   "cell_type": "code",
   "execution_count": 2,
   "metadata": {
    "collapsed": true
   },
   "outputs": [],
   "source": [
    "sys.path.append('/home/pedro/git/ElCuadernillo/ElCuadernillo/20160220_TensorFlowRegresionMultiple')"
   ]
  },
  {
   "cell_type": "code",
   "execution_count": 3,
   "metadata": {
    "collapsed": true
   },
   "outputs": [],
   "source": [
    "import gradient_descent_tensorflow as gdt"
   ]
  },
  {
   "cell_type": "markdown",
   "metadata": {
    "collapsed": false
   },
   "source": [
    "## Input\n",
    "Generamos la muestra de grado 5"
   ]
  },
  {
   "cell_type": "code",
   "execution_count": 10,
   "metadata": {
    "collapsed": false
   },
   "outputs": [
    {
     "name": "stdout",
     "output_type": "stream",
     "text": [
      "Coeficientes:  [ 3.36412627 -1.82955413  3.73675111  1.24001437 -0.97937945]\n"
     ]
    },
    {
     "data": {
      "text/plain": [
       "[<matplotlib.lines.Line2D at 0x7efebc2457f0>]"
      ]
     },
     "execution_count": 10,
     "metadata": {},
     "output_type": "execute_result"
    },
    {
     "data": {
      "image/png": "[encoded data removed]",
      "text/plain": [
       "<matplotlib.figure.Figure at 0x7efebc324198>"
      ]
     },
     "metadata": {},
     "output_type": "display_data"
    }
   ],
   "source": [
    "grado=5\n",
    "tamano=100000\n",
    "x,y,coeficentes=gdt.generar_muestra(grado,tamano)\n",
    "print (\"Coeficientes: \",coeficentes)\n",
    "plt.plot(x,y,'.')"
   ]
  },
  {
   "cell_type": "markdown",
   "metadata": {
    "collapsed": false
   },
   "source": [
    "## Problema\n",
    "**Calcular los coeficientes que mejor se ajusten a la muestra sabiendo que es de grado 5**"
   ]
  },
  {
   "cell_type": "markdown",
   "metadata": {},
   "source": [
    "Generamos la matriz de coeficientes de grado 5"
   ]
  },
  {
   "cell_type": "code",
   "execution_count": 11,
   "metadata": {
    "collapsed": true
   },
   "outputs": [],
   "source": [
    "train_x=gdt.generar_matriz_coeficientes(x,grado) # MatrizA\n",
    "train_y=np.reshape(y,(y.shape[0],-1)) # VectorColumna"
   ]
  },
  {
   "cell_type": "markdown",
   "metadata": {},
   "source": [
    "### Solucion 1: Por medio *gradient descent*\n",
    "Se va a calcular minimizando *ecm* por medio de *GradientDescent*"
   ]
  },
  {
   "cell_type": "code",
   "execution_count": 12,
   "metadata": {
    "collapsed": false
   },
   "outputs": [
    {
     "name": "stdout",
     "output_type": "stream",
     "text": [
      "Iteracion 0:\n",
      "\tPesos: [ 0.10424843  0.03057502  0.14977624  0.10966295  0.34144267]\n",
      "\tecm: 32.80121612548828\n",
      "Iteracion 200:\n",
      "\tPesos: [ 3.78006744 -0.8905564   2.53785586  0.90441191 -0.63854468]\n",
      "\tecm: 0.37401488423347473\n",
      "Iteracion 400:\n",
      "\tPesos: [ 3.78262925 -1.39037919  2.95099735  1.08305097 -0.77321088]\n",
      "\tecm: 0.11477094888687134\n",
      "Iteracion 600:\n",
      "\tPesos: [ 3.66502023 -1.62414908  3.18549418  1.16660154 -0.83559871]\n",
      "\tecm: 0.045448631048202515\n",
      "Iteracion 745:\n",
      "\tPesos: [ 3.59795499 -1.71115661  3.30899501  1.19769847 -0.86785138]\n",
      "\tecm: 0.02492544986307621\n",
      "-------------------------------------------------------------------------\n",
      "Iteracion 745:\n",
      "\tPesos: [ 3.59795499 -1.71115661  3.30899501  1.19769847 -0.86785138]\n",
      "\tecm: 0.02492544986307621\n",
      "-------------------------------------------------------------------------\n",
      "Tiempo de calculo: 11.62337064743042\n"
     ]
    }
   ],
   "source": [
    "pesos_gd,ecm,t_c_gd=gdt.regression_gradient_descent(train_x,train_y,diff_error_parada=1e-4)"
   ]
  },
  {
   "cell_type": "markdown",
   "metadata": {},
   "source": [
    "Mostramos la curva de error por iteracion"
   ]
  },
  {
   "cell_type": "markdown",
   "metadata": {},
   "source": [
    "### Solución 2: Por medio *stochastic gradient descent*\n",
    "Mucho mas rápido para grandes volumenes de datos"
   ]
  },
  {
   "cell_type": "code",
   "execution_count": 13,
   "metadata": {
    "collapsed": false
   },
   "outputs": [
    {
     "name": "stdout",
     "output_type": "stream",
     "text": [
      "Iteracion 200:\n",
      "\tPesos: [ 3.78643465 -0.90494144  2.55068541  0.91293401 -0.6358999 ]\n",
      "\tecm: 0.3388676345348358\n",
      "Iteracion 400:\n",
      "\tPesos: [ 3.7741859  -1.39192545  2.95301437  1.08441734 -0.77291107]\n",
      "\tecm: 0.149084210395813\n",
      "-------------------------------------------------------------------------\n",
      "Iteracion 516:\n",
      "\tPesos: [ 3.70458388 -1.54541707  3.09809303  1.14244986 -0.81567252]\n",
      "\tecm: 0.06473730504512787\n",
      "-------------------------------------------------------------------------\n",
      "Tiempo de calculo: 0.5160777568817139\n"
     ]
    }
   ],
   "source": [
    "pesos_sgd,ecm,t_c_sgd=gdt.regression_stochastic_gradient_descent(train_x,train_y,1000,diff_error_parada=1e-4)"
   ]
  },
  {
   "cell_type": "markdown",
   "metadata": {},
   "source": [
    "## Resultados:"
   ]
  },
  {
   "cell_type": "code",
   "execution_count": 18,
   "metadata": {
    "collapsed": false
   },
   "outputs": [
    {
     "data": {
      "image/png": "[encoded data removed]",
      "text/plain": [
       "<matplotlib.figure.Figure at 0x7efebba09470>"
      ]
     },
     "metadata": {},
     "output_type": "display_data"
    }
   ],
   "source": [
    "#http://www.scipy-lectures.org/intro/matplotlib/matplotlib.html\n",
    "x_minimo = np.linspace(-2,2,50)\n",
    "y_target=np.polynomial.polynomial.polyval(x_minimo, coeficentes).ravel()\n",
    "y_gradiente_descendente=np.polynomial.polynomial.polyval(x_minimo, pesos_gd).ravel()\n",
    "y_gradiente_descendente_estocastico=np.polynomial.polynomial.polyval(x_minimo, pesos_sgd).ravel()\n",
    "\n",
    "plt.plot(x_minimo, y_target, color=\"blue\", linewidth=2.5, linestyle=\"-\", label=\"Muestra\")\n",
    "plt.plot(x_minimo, y_gradiente_descendente, color=\"red\",  linewidth=2.5, linestyle=\"-\", label=\"Gradiente Descendente, tiempo: {} segundos\".format(t_c_gd))\n",
    "plt.plot(x_minimo, y_gradiente_descendente_estocastico, color=\"green\",  linewidth=2.5, linestyle=\"-\", label=\"Gradiente Descendente Estocastico, tiempo: {} segundos\".format(t_c_sgd))\n",
    "\n",
    "plt.legend(loc='upper left')\n",
    "\n",
    "plt.show()"
   ]
  },
  {
   "cell_type": "code",
   "execution_count": null,
   "metadata": {
    "collapsed": true
   },
   "outputs": [],
   "source": []
  }
 ],
 "metadata": {
  "kernelspec": {
   "display_name": "Python 3",
   "language": "python",
   "name": "python3"
  },
  "language_info": {
   "codemirror_mode": {
    "name": "ipython",
    "version": 3
   },
   "file_extension": ".py",
   "mimetype": "text/x-python",
   "name": "python",
   "nbconvert_exporter": "python",
   "pygments_lexer": "ipython3",
   "version": "3.4.2"
  }
 },
 "nbformat": 4,
 "nbformat_minor": 0
}

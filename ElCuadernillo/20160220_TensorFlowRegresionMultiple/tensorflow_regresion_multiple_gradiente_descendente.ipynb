{
 "cells": [
  {
   "cell_type": "code",
   "execution_count": 1,
   "metadata": {
    "collapsed": false,
    "slideshow": {
     "slide_type": "skip"
    }
   },
   "outputs": [
    {
     "data": {
      "text/html": [
       "<style>\n",
       "# div.prompt {display:none}\n",
       "</style>"
      ],
      "text/plain": [
       "<IPython.core.display.HTML object>"
      ]
     },
     "metadata": {},
     "output_type": "display_data"
    }
   ],
   "source": [
    "%%HTML\n",
    "<style>\n",
    "# div.prompt {display:none}\n",
    "</style>"
   ]
  },
  {
   "cell_type": "markdown",
   "metadata": {},
   "source": [
    "# Regresión multiple utilizando grandiente descendente de TensorFlow"
   ]
  },
  {
   "cell_type": "code",
   "execution_count": 2,
   "metadata": {
    "collapsed": true
   },
   "outputs": [],
   "source": [
    "import numpy as np\n",
    "import tensorflow as tf\n",
    "import matplotlib.pyplot as plt\n",
    "import seaborn as sns\n",
    "sns.set(color_codes=True)\n",
    "%matplotlib inline\n",
    "import sys"
   ]
  },
  {
   "cell_type": "code",
   "execution_count": 3,
   "metadata": {
    "collapsed": true
   },
   "outputs": [],
   "source": [
    "sys.path.append('/home/pedro/git/ElCuadernillo/ElCuadernillo/20160220_TensorFlowRegresionMultiple')"
   ]
  },
  {
   "cell_type": "code",
   "execution_count": 4,
   "metadata": {
    "collapsed": true
   },
   "outputs": [],
   "source": [
    "import gradient_descent_tensorflow as gdt"
   ]
  },
  {
   "cell_type": "markdown",
   "metadata": {
    "collapsed": false
   },
   "source": [
    "## Input\n",
    "Generamos la muestra de grado 5"
   ]
  },
  {
   "cell_type": "code",
   "execution_count": 5,
   "metadata": {
    "collapsed": false
   },
   "outputs": [
    {
     "name": "stdout",
     "output_type": "stream",
     "text": [
      "Coeficientes:  [ 1.17983303  2.97654514 -2.56061827  0.28643859]\n"
     ]
    },
    {
     "data": {
      "text/plain": [
       "[<matplotlib.lines.Line2D at 0x7fc305b13828>]"
      ]
     },
     "execution_count": 5,
     "metadata": {},
     "output_type": "execute_result"
    },
    {
     "data": {
      "image/png": "[encoded data removed]",
      "text/plain": [
       "<matplotlib.figure.Figure at 0x7fc33404f828>"
      ]
     },
     "metadata": {},
     "output_type": "display_data"
    }
   ],
   "source": [
    "grado=4\n",
    "tamano=100000\n",
    "x,y,coeficentes=gdt.generar_muestra(grado,tamano)\n",
    "print (\"Coeficientes: \",coeficentes)\n",
    "plt.plot(x,y,'.')"
   ]
  },
  {
   "cell_type": "markdown",
   "metadata": {
    "collapsed": false
   },
   "source": [
    "## Problema\n",
    "**Calcular los coeficientes que mejor se ajusten a la muestra sabiendo que es de grado 5**"
   ]
  },
  {
   "cell_type": "markdown",
   "metadata": {},
   "source": [
    "Generamos la matriz de coeficientes de grado 5"
   ]
  },
  {
   "cell_type": "code",
   "execution_count": 6,
   "metadata": {
    "collapsed": true
   },
   "outputs": [],
   "source": [
    "train_x=gdt.generar_matriz_coeficientes(x,grado) # MatrizA\n",
    "train_y=np.reshape(y,(y.shape[0],-1)) # VectorColumna"
   ]
  },
  {
   "cell_type": "markdown",
   "metadata": {},
   "source": [
    "### Solucion 1: Por medio *gradient descent*\n",
    "Se va a calcular minimizando *ecm* por medio de *GradientDescent*"
   ]
  },
  {
   "cell_type": "code",
   "execution_count": 7,
   "metadata": {
    "collapsed": false
   },
   "outputs": [
    {
     "name": "stdout",
     "output_type": "stream",
     "text": [
      "Iteracion 0:\n",
      "\tPesos: [-0.04468783  0.09770893 -0.13242336  0.24288683]\n",
      "\tecm: 32.33792495727539\n",
      "Iteracion 200:\n",
      "\tPesos: [ 0.74361557  1.78906322 -2.35499501  0.7108506 ]\n",
      "\tecm: 0.3915315270423889\n",
      "Iteracion 400:\n",
      "\tPesos: [ 1.0816673   2.42115355 -2.51434565  0.48493838]\n",
      "\tecm: 0.07090514153242111\n",
      "Iteracion 600:\n",
      "\tPesos: [ 1.15774202  2.71678567 -2.55020499  0.37927791]\n",
      "\tecm: 0.014763785526156425\n",
      "Iteracion 618:\n",
      "\tPesos: [ 1.16051686  2.73395753 -2.55151296  0.3731406 ]\n",
      "\tecm: 0.012852116487920284\n",
      "-------------------------------------------------------------------------\n",
      "Iteracion 618:\n",
      "\tPesos: [ 1.16051686  2.73395753 -2.55151296  0.3731406 ]\n",
      "\tecm: 0.012852116487920284\n",
      "-------------------------------------------------------------------------\n",
      "Tiempo de calculo: 8.751079082489014\n"
     ]
    }
   ],
   "source": [
    "pesos_gd,ecm,t_c_gd=gdt.regression_gradient_descent(train_x,train_y,diff_error_parada=1e-4)"
   ]
  },
  {
   "cell_type": "markdown",
   "metadata": {},
   "source": [
    "Mostramos la curva de error por iteracion"
   ]
  },
  {
   "cell_type": "markdown",
   "metadata": {},
   "source": [
    "### Solución 2: Por medio *stochastic gradient descent*\n",
    "Mucho mas rápido para grandes volumenes de datos"
   ]
  },
  {
   "cell_type": "code",
   "execution_count": 34,
   "metadata": {
    "collapsed": false
   },
   "outputs": [
    {
     "name": "stdout",
     "output_type": "stream",
     "text": [
      "En cada iteracion se usará:  100000.0  entradas\n",
      "Iteracion 200:\n",
      "\tPesos: [ 0.74035037  1.7845428  -2.35345578  0.71246618]\n",
      "\tecm: 0.39516589045524597\n",
      "Iteracion 400:\n",
      "\tPesos: [ 1.0809325   2.41903901 -2.51399922  0.48569414]\n",
      "\tecm: 0.07147883623838425\n",
      "Iteracion 600:\n",
      "\tPesos: [ 1.15757668  2.71579671 -2.55012703  0.37963131]\n",
      "\tecm: 0.01487808395177126\n",
      "Iteracion 619:\n",
      "\tPesos: [ 1.16051686  2.73395753 -2.55151296  0.3731406 ]\n",
      "\tecm: 0.012852112762629986\n",
      "Tiempo de calculo: 23.92095971107483\n",
      "Numero de muestras utilizadas: 61900000\n"
     ]
    }
   ],
   "source": [
    "pesos_sgd,ecm,t_c_sgd=gdt.regression_stochastic_gradient_descent(train_x,train_y,1,diff_error_parada=1e-4)"
   ]
  },
  {
   "cell_type": "markdown",
   "metadata": {},
   "source": [
    "## Resultados:"
   ]
  },
  {
   "cell_type": "code",
   "execution_count": 9,
   "metadata": {
    "collapsed": false
   },
   "outputs": [
    {
     "data": {
      "image/png": "[encoded data removed]",
      "text/plain": [
       "<matplotlib.figure.Figure at 0x7fc305b594a8>"
      ]
     },
     "metadata": {},
     "output_type": "display_data"
    }
   ],
   "source": [
    "plt=gdt.grafica_resultados(coeficentes,pesos_gd,pesos_sgd,t_c_gd,t_c_sgd)\n",
    "plt.show()"
   ]
  },
  {
   "cell_type": "code",
   "execution_count": 19,
   "metadata": {
    "collapsed": false
   },
   "outputs": [
    {
     "data": {
      "text/plain": [
       "64.90349763003812"
      ]
     },
     "execution_count": 19,
     "metadata": {},
     "output_type": "execute_result"
    }
   ],
   "source": [
    "(0.339/(100*382))/(8.45/(100000*618))\n"
   ]
  },
  {
   "cell_type": "code",
   "execution_count": 16,
   "metadata": {
    "collapsed": false
   },
   "outputs": [
    {
     "data": {
      "text/plain": [
       "1617.8010471204188"
      ]
     },
     "execution_count": 16,
     "metadata": {},
     "output_type": "execute_result"
    }
   ],
   "source": [
    "(100000*618)/(100*382)"
   ]
  },
  {
   "cell_type": "code",
   "execution_count": 12,
   "metadata": {
    "collapsed": false
   },
   "outputs": [
    {
     "data": {
      "text/plain": [
       "0.0008874345549738221"
      ]
     },
     "execution_count": 12,
     "metadata": {},
     "output_type": "execute_result"
    }
   ],
   "source": [
    "0.339/382"
   ]
  },
  {
   "cell_type": "code",
   "execution_count": 14,
   "metadata": {
    "collapsed": false
   },
   "outputs": [
    {
     "data": {
      "text/plain": [
       "15.954501627669424"
      ]
     },
     "execution_count": 14,
     "metadata": {},
     "output_type": "execute_result"
    }
   ],
   "source": [
    "0.014158576051779935/0.0008874345549738221"
   ]
  }
 ],
 "metadata": {
  "kernelspec": {
   "display_name": "Python 3",
   "language": "python",
   "name": "python3"
  },
  "language_info": {
   "codemirror_mode": {
    "name": "ipython",
    "version": 3
   },
   "file_extension": ".py",
   "mimetype": "text/x-python",
   "name": "python",
   "nbconvert_exporter": "python",
   "pygments_lexer": "ipython3",
   "version": "3.4.2"
  }
 },
 "nbformat": 4,
 "nbformat_minor": 0
}

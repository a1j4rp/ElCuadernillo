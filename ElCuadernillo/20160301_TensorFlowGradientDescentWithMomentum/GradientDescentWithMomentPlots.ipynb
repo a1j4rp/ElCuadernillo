{
 "cells": [
  {
   "cell_type": "code",
   "execution_count": 109,
   "metadata": {
    "collapsed": false,
    "slideshow": {
     "slide_type": "skip"
    }
   },
   "outputs": [
    {
     "data": {
      "text/html": [
       "<style>\n",
       "div.prompt {display:none}\n",
       "</style>"
      ],
      "text/plain": [
       "<IPython.core.display.HTML object>"
      ]
     },
     "metadata": {},
     "output_type": "display_data"
    }
   ],
   "source": [
    "%%HTML\n",
    "<style>\n",
    "div.prompt {display:none}\n",
    "</style>"
   ]
  },
  {
   "cell_type": "markdown",
   "metadata": {},
   "source": [
    "# TensorFlow, Mini-Batch/Stochastic GradientDescent With Moment"
   ]
  },
  {
   "cell_type": "code",
   "execution_count": 96,
   "metadata": {
    "collapsed": false
   },
   "outputs": [],
   "source": [
    "import numpy as np\n",
    "import tensorflow as tf\n",
    "import matplotlib.pyplot as plt\n",
    "import seaborn as sns\n",
    "sns.set(color_codes=True)\n",
    "%matplotlib inline\n",
    "import sys\n",
    "import time"
   ]
  },
  {
   "cell_type": "code",
   "execution_count": 108,
   "metadata": {
    "collapsed": false
   },
   "outputs": [],
   "source": [
    "from IPython.display import Image\n",
    "sys.path.append('/home/pedro/git/ElCuadernillo/ElCuadernillo/20160301_TensorFlowGradientDescentWithMomentum')"
   ]
  },
  {
   "cell_type": "code",
   "execution_count": 98,
   "metadata": {
    "collapsed": false
   },
   "outputs": [],
   "source": [
    "import gradient_descent_with_momentum as gdt"
   ]
  },
  {
   "cell_type": "markdown",
   "metadata": {
    "collapsed": false
   },
   "source": [
    "## Input\n",
    "Generamos la muestra de grado 5"
   ]
  },
  {
   "cell_type": "code",
   "execution_count": 99,
   "metadata": {
    "collapsed": false
   },
   "outputs": [
    {
     "name": "stdout",
     "output_type": "stream",
     "text": [
      "Coeficientes:  [ 4.44 -3.67  0.63  0.57]\n"
     ]
    },
    {
     "data": {
      "text/plain": [
       "[<matplotlib.lines.Line2D at 0x7f66463076d8>]"
      ]
     },
     "execution_count": 99,
     "metadata": {},
     "output_type": "execute_result"
    },
    {
     "data": {
      "image/png": "[encoded data removed]",
      "text/plain": [
       "<matplotlib.figure.Figure at 0x7f664659b358>"
      ]
     },
     "metadata": {},
     "output_type": "display_data"
    }
   ],
   "source": [
    "grado=4\n",
    "tamano=100000\n",
    "x,y,coeficentes=gdt.generar_muestra(grado,tamano)\n",
    "print (\"Coeficientes: \",coeficentes)\n",
    "plt.plot(x,y,'.')"
   ]
  },
  {
   "cell_type": "markdown",
   "metadata": {
    "collapsed": false
   },
   "source": [
    "## Problema\n",
    "**Calcular los coeficientes que mejor se ajusten a la muestra sabiendo que es de grado 5**"
   ]
  },
  {
   "cell_type": "markdown",
   "metadata": {},
   "source": [
    "Generamos la matriz de coeficientes de grado 5"
   ]
  },
  {
   "cell_type": "code",
   "execution_count": 100,
   "metadata": {
    "collapsed": false
   },
   "outputs": [],
   "source": [
    "train_x=gdt.generar_matriz_coeficientes(x,grado) # MatrizA\n",
    "train_y=np.reshape(y,(y.shape[0],-1)) # VectorColumna\n",
    "learning_rate_inicial=1e-2\n",
    "activar_sumario=True"
   ]
  },
  {
   "cell_type": "markdown",
   "metadata": {},
   "source": [
    "### Solucion 1: Por medio *gradient descent*"
   ]
  },
  {
   "cell_type": "code",
   "execution_count": 101,
   "metadata": {
    "collapsed": false
   },
   "outputs": [
    {
     "name": "stdout",
     "output_type": "stream",
     "text": [
      "Iteracion 414:\n",
      "\tPesos: [ 4.28 -2.96  0.71  0.32]\n",
      "\tecm: 0.12037283927202225\n",
      "Tiempo de calculo: 6.81791615486145\n",
      "----------------------\n"
     ]
    }
   ],
   "source": [
    "pesos_gd,ecm_gd,tiempo_gd=gdt.gradient_descent_with_momentum(train_x,\n",
    "                                                             train_y,\n",
    "                                                             num_mini_batch=1,\n",
    "                                                             learning_rate_inicial=learning_rate_inicial,\n",
    "                                                             momentum=0.0,\n",
    "                                                             activar_sumario=activar_sumario,\n",
    "                                                             prefijo='GD_')"
   ]
  },
  {
   "cell_type": "markdown",
   "metadata": {},
   "source": [
    "<img src=\"capturas/gradient_descent.png\">"
   ]
  },
  {
   "cell_type": "markdown",
   "metadata": {},
   "source": [
    "### Solución 2: Por medio *mini-batch=1000  gradient descent*"
   ]
  },
  {
   "cell_type": "code",
   "execution_count": 112,
   "metadata": {
    "collapsed": false
   },
   "outputs": [
    {
     "name": "stdout",
     "output_type": "stream",
     "text": [
      "Iteracion 363:\n",
      "\tPesos: [ 4.22 -2.8   0.75  0.24]\n",
      "\tecm: 0.18072909116744995\n",
      "Tiempo de calculo: 0.9483833312988281\n",
      "----------------------\n"
     ]
    }
   ],
   "source": [
    "pesos_mgd,ecm_mgd,tiempo_mgd=gdt.gradient_descent_with_momentum(train_x,\n",
    "                                                             train_y,\n",
    "                                                             num_mini_batch=10000,\n",
    "                                                             learning_rate_inicial=learning_rate_inicial,\n",
    "                                                             momentum=0.0,\n",
    "                                                             activar_sumario=activar_sumario,\n",
    "                                                             prefijo='mGD_')"
   ]
  },
  {
   "cell_type": "markdown",
   "metadata": {},
   "source": [
    "<img src=\"capturas/mini_batch_gradient_descent.png\">"
   ]
  },
  {
   "cell_type": "markdown",
   "metadata": {},
   "source": [
    "### Solución 3: Por medio *mini-batch=10000  gradient descent With Moment*"
   ]
  },
  {
   "cell_type": "code",
   "execution_count": 113,
   "metadata": {
    "collapsed": false,
    "scrolled": true
   },
   "outputs": [
    {
     "name": "stdout",
     "output_type": "stream",
     "text": [
      "Iteracion 68:\n",
      "\tPesos: [ 4.41 -3.56  0.51  0.54]\n",
      "\tecm: 0.020936276763677597\n",
      "Tiempo de calculo: 0.43771791458129883\n",
      "----------------------\n"
     ]
    }
   ],
   "source": [
    "pesos_mgdm,ecm_mgdm,tiempo_mgdm=gdt.gradient_descent_with_momentum(train_x,\n",
    "                                                             train_y,\n",
    "                                                             num_mini_batch=10000,\n",
    "                                                             learning_rate_inicial=learning_rate_inicial,\n",
    "                                                             momentum=0.9,\n",
    "                                                             activar_sumario=activar_sumario,\n",
    "                                                             prefijo='mGDM_')"
   ]
  },
  {
   "cell_type": "markdown",
   "metadata": {},
   "source": [
    "<img src=\"capturas/minibatch_gradient_descent_momentum.png\">"
   ]
  },
  {
   "cell_type": "markdown",
   "metadata": {},
   "source": [
    "### Solución 4: Por medio *mini-batch=1  Stocastict gradient descent With Moment*"
   ]
  },
  {
   "cell_type": "code",
   "execution_count": 104,
   "metadata": {
    "collapsed": false
   },
   "outputs": [
    {
     "name": "stdout",
     "output_type": "stream",
     "text": [
      "Iteracion 500:\n",
      "\tPesos: [  1.09e+08   2.93e+08   8.18e+07   1.94e+09]\n",
      "\tecm: 6.067617122169651e+17\n",
      "Iteracion 1000:\n",
      "\tPesos: [  1.03e+17   2.98e+17  -3.85e+17   6.15e+17]\n",
      "\tecm: 2.4926682786195253e+34\n",
      "Iteracion 1032:\n",
      "\tPesos: [ -1.75e+18   1.04e+18  -1.22e+18   8.62e+17]\n",
      "\tecm: inf\n",
      "Tiempo de calculo: 2.351959466934204\n",
      "----------------------\n"
     ]
    }
   ],
   "source": [
    "pesos_sgdm,ecm_sgdm,tiempo_sgdm=gdt.gradient_descent_with_momentum(train_x,\n",
    "                                                             train_y,\n",
    "                                                             num_mini_batch=len(train_x),\n",
    "                                                             learning_rate_inicial=learning_rate_inicial,\n",
    "                                                             momentum=0.9,\n",
    "                                                             activar_sumario=activar_sumario,\n",
    "                                                             prefijo='SGDM_')"
   ]
  },
  {
   "cell_type": "markdown",
   "metadata": {},
   "source": [
    "<img src=\"capturas/stocastic_gradient_descent_momentum_fail.png\">"
   ]
  },
  {
   "cell_type": "code",
   "execution_count": 105,
   "metadata": {
    "collapsed": false
   },
   "outputs": [
    {
     "name": "stdout",
     "output_type": "stream",
     "text": [
      "Iteracion 413:\n",
      "\tPesos: [ 4.29 -3.07  0.67  0.39]\n",
      "\tecm: 0.0004510260187089443\n",
      "Tiempo de calculo: 0.953420877456665\n",
      "----------------------\n"
     ]
    }
   ],
   "source": [
    "pesos_sgdm,ecm_sgdm,tiempo_sgdm=gdt.gradient_descent_with_momentum(train_x,\n",
    "                                                             train_y,\n",
    "                                                             num_mini_batch=len(train_x),\n",
    "                                                             learning_rate_inicial=1e-3, # Disminuimos la tasa de aprendizaje\n",
    "                                                             momentum=0.9,\n",
    "                                                             activar_sumario=activar_sumario,\n",
    "                                                             prefijo='SGDM_2_')"
   ]
  },
  {
   "cell_type": "markdown",
   "metadata": {},
   "source": [
    "<img src=\"capturas/stocastic_gradient_descent_momentum_correct.png\">"
   ]
  }
 ],
 "metadata": {
  "kernelspec": {
   "display_name": "Python 3",
   "language": "python",
   "name": "python3"
  },
  "language_info": {
   "codemirror_mode": {
    "name": "ipython",
    "version": 3
   },
   "file_extension": ".py",
   "mimetype": "text/x-python",
   "name": "python",
   "nbconvert_exporter": "python",
   "pygments_lexer": "ipython3",
   "version": "3.4.2"
  }
 },
 "nbformat": 4,
 "nbformat_minor": 0
}

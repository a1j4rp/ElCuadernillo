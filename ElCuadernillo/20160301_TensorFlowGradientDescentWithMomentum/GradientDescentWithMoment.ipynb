{
 "cells": [
  {
   "cell_type": "code",
   "execution_count": 52,
   "metadata": {
    "collapsed": false,
    "slideshow": {
     "slide_type": "skip"
    }
   },
   "outputs": [
    {
     "data": {
      "text/html": [
       "<style>\n",
       "div.prompt {display:none}\n",
       "</style>"
      ],
      "text/plain": [
       "<IPython.core.display.HTML object>"
      ]
     },
     "metadata": {},
     "output_type": "display_data"
    }
   ],
   "source": [
    "%%HTML\n",
    "<style>\n",
    "div.prompt {display:none}\n",
    "</style>"
   ]
  },
  {
   "cell_type": "markdown",
   "metadata": {},
   "source": [
    "# TensorFlow, Mini-Batch/Stochastic GradientDescent With Moment"
   ]
  },
  {
   "cell_type": "code",
   "execution_count": 2,
   "metadata": {
    "collapsed": false
   },
   "outputs": [],
   "source": [
    "import numpy as np\n",
    "import tensorflow as tf\n",
    "import matplotlib.pyplot as plt\n",
    "import seaborn as sns\n",
    "sns.set(color_codes=True)\n",
    "%matplotlib inline\n",
    "import sys\n",
    "import time"
   ]
  },
  {
   "cell_type": "code",
   "execution_count": 65,
   "metadata": {
    "collapsed": false
   },
   "outputs": [],
   "source": [
    "from IPython.display import Image\n",
    "sys.path.append('/home/pedro/git/ElCuadernillo/ElCuadernillo/20160301_TensorFlowGradientDescentWithMomentum')"
   ]
  },
  {
   "cell_type": "code",
   "execution_count": 4,
   "metadata": {
    "collapsed": false
   },
   "outputs": [],
   "source": [
    "import gradient_descent_with_momentum as gdt"
   ]
  },
  {
   "cell_type": "markdown",
   "metadata": {
    "collapsed": false
   },
   "source": [
    "#### Input\n",
    "Generamos la muestra de grado 4"
   ]
  },
  {
   "cell_type": "code",
   "execution_count": 5,
   "metadata": {
    "collapsed": false
   },
   "outputs": [
    {
     "name": "stdout",
     "output_type": "stream",
     "text": [
      "Coeficientes:  [-0.65240887 -3.8030396   4.9922934  -1.49568513]\n"
     ]
    },
    {
     "data": {
      "text/plain": [
       "[<matplotlib.lines.Line2D at 0x7f0a71bdfb00>]"
      ]
     },
     "execution_count": 5,
     "metadata": {},
     "output_type": "execute_result"
    },
    {
     "data": {
      "image/png": "[encoded data removed]",
      "text/plain": [
       "<matplotlib.figure.Figure at 0x7f0a71c6dac8>"
      ]
     },
     "metadata": {},
     "output_type": "display_data"
    }
   ],
   "source": [
    "grado=4\n",
    "tamano=100000\n",
    "x,y,coeficentes=gdt.generar_muestra(grado,tamano)\n",
    "print (\"Coeficientes: \",coeficentes)\n",
    "plt.plot(x,y,'.')"
   ]
  },
  {
   "cell_type": "markdown",
   "metadata": {
    "collapsed": false
   },
   "source": [
    "## Problema\n",
    "**Calcular los coeficientes que mejor se ajusten a la muestra sabiendo que es de grado 4**"
   ]
  },
  {
   "cell_type": "markdown",
   "metadata": {},
   "source": [
    "#### Generamos la matriz de coeficientes de grado 4"
   ]
  },
  {
   "cell_type": "code",
   "execution_count": 54,
   "metadata": {
    "collapsed": false
   },
   "outputs": [],
   "source": [
    "train_x=gdt.generar_matriz_coeficientes(x,grado) # MatrizA\n",
    "train_y=np.reshape(y,(y.shape[0],-1)) # VectorColumna\n",
    "learning_rate_inicial=1e-2"
   ]
  },
  {
   "cell_type": "markdown",
   "metadata": {},
   "source": [
    "### Solucion 1: Por medio *gradient descent*"
   ]
  },
  {
   "cell_type": "code",
   "execution_count": 76,
   "metadata": {
    "collapsed": false
   },
   "outputs": [
    {
     "name": "stdout",
     "output_type": "stream",
     "text": [
      "Iteracion 370:\n",
      "\tPesos: [-0.5  -3.09  4.92 -1.75]\n",
      "\tecm: 0.11996486037969589\n",
      "Tiempo de calculo: 5.289718866348267\n",
      "----------------------\n"
     ]
    }
   ],
   "source": [
    "pesos_gd,ecm_gd,tiempo_gd=gdt.gradient_descent_with_momentum(train_x,\n",
    "                                                             train_y,\n",
    "                                                             num_mini_batch=1,\n",
    "                                                             learning_rate_inicial=learning_rate_inicial,\n",
    "                                                             momentum=0.0)"
   ]
  },
  {
   "cell_type": "markdown",
   "metadata": {},
   "source": [
    "<img src=\"capturas/gradient_descent.png\">"
   ]
  },
  {
   "cell_type": "markdown",
   "metadata": {},
   "source": [
    "### Solución 2: Por medio *mini-batch=1000  gradient descent*"
   ]
  },
  {
   "cell_type": "code",
   "execution_count": 77,
   "metadata": {
    "collapsed": false
   },
   "outputs": [
    {
     "name": "stdout",
     "output_type": "stream",
     "text": [
      "Iteracion 402:\n",
      "\tPesos: [-0.54 -3.21  4.94 -1.7 ]\n",
      "\tecm: 0.08897928148508072\n",
      "Tiempo de calculo: 0.38129377365112305\n",
      "----------------------\n"
     ]
    }
   ],
   "source": [
    "pesos_mgd,ecm_mgd,tiempo_mgd=gdt.gradient_descent_with_momentum(train_x,\n",
    "                                                             train_y,\n",
    "                                                             num_mini_batch=10000,\n",
    "                                                             learning_rate_inicial=learning_rate_inicial,\n",
    "                                                             momentum=0.0)"
   ]
  },
  {
   "cell_type": "markdown",
   "metadata": {},
   "source": [
    "<img src=\"capturas/mini_batch_gradient_descent.png\">"
   ]
  },
  {
   "cell_type": "markdown",
   "metadata": {},
   "source": [
    "### Solución 3: Por medio *mini-batch=10000  gradient descent With Moment*"
   ]
  },
  {
   "cell_type": "code",
   "execution_count": 59,
   "metadata": {
    "collapsed": false
   },
   "outputs": [
    {
     "name": "stdout",
     "output_type": "stream",
     "text": [
      "Iteracion 71:\n",
      "\tPesos: [-0.71 -3.64  4.94 -1.57]\n",
      "\tecm: 0.03716972470283508\n",
      "Tiempo de calculo: 0.14355134963989258\n",
      "----------------------\n"
     ]
    }
   ],
   "source": [
    "pesos_mgdm,ecm_mgdm,tiempo_mgdm=gdt.gradient_descent_with_momentum(train_x,\n",
    "                                                             train_y,\n",
    "                                                             num_mini_batch=10000,\n",
    "                                                             learning_rate_inicial=learning_rate_inicial,\n",
    "                                                             momentum=0.9)"
   ]
  },
  {
   "cell_type": "markdown",
   "metadata": {},
   "source": [
    "<img src=\"capturas/minibatch_gradient_descent_momentum.png\">"
   ]
  },
  {
   "cell_type": "markdown",
   "metadata": {},
   "source": [
    "### Solución 4: Por medio *mini-batch=1  Stocastict gradient descent With Moment*"
   ]
  },
  {
   "cell_type": "code",
   "execution_count": 75,
   "metadata": {
    "collapsed": false
   },
   "outputs": [
    {
     "name": "stdout",
     "output_type": "stream",
     "text": [
      "Iteracion 500:\n",
      "\tPesos: [ -1.32e+12   7.54e+11  -3.85e+12  -3.30e+12]\n",
      "\tecm: 2.055166457001165e+24\n",
      "Iteracion 745:\n",
      "\tPesos: [ -3.62e+17  -2.14e+17  -2.48e+18   2.40e+17]\n",
      "\tecm: inf\n",
      "Tiempo de calculo: 0.5769433975219727\n",
      "----------------------\n"
     ]
    }
   ],
   "source": [
    "pesos_sgdm,ecm_sgdm,tiempo_sgdm=gdt.gradient_descent_with_momentum(train_x,\n",
    "                                                             train_y,\n",
    "                                                             num_mini_batch=len(train_x),\n",
    "                                                             learning_rate_inicial=learning_rate_inicial,\n",
    "                                                             momentum=0.9)"
   ]
  },
  {
   "cell_type": "markdown",
   "metadata": {},
   "source": [
    "<img src=\"capturas/stocastic_gradient_descent_momentum_fail.png\">"
   ]
  },
  {
   "cell_type": "code",
   "execution_count": 62,
   "metadata": {
    "collapsed": false
   },
   "outputs": [
    {
     "name": "stdout",
     "output_type": "stream",
     "text": [
      "Iteracion 478:\n",
      "\tPesos: [-0.52 -3.3   4.96 -1.73]\n",
      "\tecm: 0.02569892257452011\n",
      "Tiempo de calculo: 0.41315317153930664\n",
      "----------------------\n"
     ]
    }
   ],
   "source": [
    "pesos_sgdm,ecm_sgdm,tiempo_sgdm=gdt.gradient_descent_with_momentum(train_x,\n",
    "                                                             train_y,\n",
    "                                                             num_mini_batch=len(train_x),\n",
    "                                                             learning_rate_inicial=1e-3, # Disminuimos la tasa de aprendizaje\n",
    "                                                             momentum=0.9)"
   ]
  },
  {
   "cell_type": "markdown",
   "metadata": {},
   "source": [
    "<img src=\"capturas/stocastic_gradient_descent_momentum_correct.png\">"
   ]
  }
 ],
 "metadata": {
  "kernelspec": {
   "display_name": "Python 3",
   "language": "python",
   "name": "python3"
  },
  "language_info": {
   "codemirror_mode": {
    "name": "ipython",
    "version": 3
   },
   "file_extension": ".py",
   "mimetype": "text/x-python",
   "name": "python",
   "nbconvert_exporter": "python",
   "pygments_lexer": "ipython3",
   "version": "3.4.2"
  }
 },
 "nbformat": 4,
 "nbformat_minor": 0
}
